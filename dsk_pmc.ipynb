{
 "cells": [
  {
   "cell_type": "code",
   "execution_count": null,
   "id": "f597e5ea-2f86-4a24-99d6-30766f5a7727",
   "metadata": {},
   "outputs": [],
   "source": []
  },
  {
   "cell_type": "code",
   "execution_count": 1,
   "id": "d9f24028-0247-44fd-b57a-d9ea37137d61",
   "metadata": {},
   "outputs": [],
   "source": [
    "import numpy as np\n",
    "import networkx as nx\n",
    "import pygraphviz as pgv\n",
    "from nxpd import draw"
   ]
  },
  {
   "cell_type": "code",
   "execution_count": 2,
   "id": "077fe9d9-dc1e-473d-9d56-bff2afbfa1f2",
   "metadata": {},
   "outputs": [
    {
     "name": "stdout",
     "output_type": "stream",
     "text": [
      "strict digraph \"\" {\n",
      "\t0 -> 2\t [weight=1.0];\n",
      "\t0 -> 5\t [weight=1.0];\n",
      "\t5 -> 2\t [weight=1.0];\n",
      "\t5 -> 1\t [weight=1.0];\n",
      "\t5 -> 3\t [weight=1.0];\n",
      "\t5 -> 6\t [weight=1.0];\n",
      "\t1 -> 0\t [weight=1.0];\n",
      "\t1 -> 5\t [weight=1.0];\n",
      "\t1 -> 4\t [weight=1.0];\n",
      "\t4 -> 0\t [weight=1.0];\n",
      "\t3 -> 5\t [weight=1.0];\n",
      "\t6 -> 5\t [weight=1.0];\n",
      "\t6 -> 1\t [weight=1.0];\n",
      "\t6 -> 4\t [weight=1.0];\n",
      "}\n",
      "\n"
     ]
    }
   ],
   "source": [
    "input_matrix = np.loadtxt('input_struct.txt')\n",
    "graph = nx.from_numpy_matrix(input_matrix, create_using=nx.DiGraph())\n",
    "graph_viz = nx.nx_agraph.to_agraph(graph)\n",
    "print(graph_viz)"
   ]
  },
  {
   "cell_type": "code",
   "execution_count": 4,
   "id": "a4f8e59b-a244-43ca-abaf-4e0df17ea974",
   "metadata": {},
   "outputs": [],
   "source": [
    "graph_viz.layout('dot')\n",
    "graph_viz.draw('input_graph.png')"
   ]
  },
  {
   "cell_type": "code",
   "execution_count": null,
   "id": "c9545467-cba1-47a5-b1ca-bb301822ff57",
   "metadata": {},
   "outputs": [],
   "source": [
    "from IPython.display import Image\n",
    "Image(filename='input_graph.png') "
   ]
  }
 ],
 "metadata": {
  "kernelspec": {
   "display_name": "Python 3",
   "language": "python",
   "name": "python3"
  },
  "language_info": {
   "codemirror_mode": {
    "name": "ipython",
    "version": 3
   },
   "file_extension": ".py",
   "mimetype": "text/x-python",
   "name": "python",
   "nbconvert_exporter": "python",
   "pygments_lexer": "ipython3",
   "version": "3.6.9"
  }
 },
 "nbformat": 4,
 "nbformat_minor": 5
}
